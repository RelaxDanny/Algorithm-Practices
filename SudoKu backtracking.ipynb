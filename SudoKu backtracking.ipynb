{
 "cells": [
  {
   "cell_type": "markdown",
   "metadata": {
    "nbgrader": {
     "grade": false,
     "grade_id": "cell-0df28980e741fe76",
     "locked": true,
     "schema_version": 1,
     "solution": false
    }
   },
   "source": [
    "|  CSE373 Analysis of Algorithm  |  Programming Practice #13 |  Posted on 11/06 Due 11/11   |\n",
    "|:--|:--:|--:|\n",
    "\n",
    "# Task #13\n",
    "\n",
    "## Solve Sudoku with backtracking\n",
    "\n",
    "#### Guide:\n",
    "1. Find all legal values of a given call\n",
    "2. For each legal value, Go recursively and try to solve the grid\n",
    "\n",
    "Your filled sudoku must be printable."
   ]
  },
  {
   "cell_type": "code",
   "execution_count": 1,
   "metadata": {
    "nbgrader": {
     "grade": false,
     "grade_id": "cell-889dda65a0e9cda5",
     "locked": true,
     "schema_version": 1,
     "solution": false
    }
   },
   "outputs": [],
   "source": [
    "grid=[[5,1,7,6,0,0,0,3,4],\n",
    "        [2,8,9,0,0,4,0,0,0],\n",
    "        [3,4,6,2,0,5,0,9,0],\n",
    "        [6,0,2,0,0,0,0,1,0],\n",
    "        [0,3,8,0,0,6,0,4,7],\n",
    "        [0,0,0,0,0,0,0,0,0],\n",
    "        [0,9,0,0,0,0,0,7,8],\n",
    "        [7,0,3,4,0,0,5,6,0],\n",
    "        [0,0,0,0,0,0,0,0,0]] # 9 x 9"
   ]
  },
  {
   "cell_type": "markdown",
   "metadata": {
    "nbgrader": {
     "grade": false,
     "grade_id": "cell-86e735c18bbb738f",
     "locked": true,
     "schema_version": 1,
     "solution": false
    }
   },
   "source": [
    "#### Write your algorithm here:"
   ]
  },
  {
   "cell_type": "code",
   "execution_count": 7,
   "metadata": {
    "nbgrader": {
     "grade": false,
     "grade_id": "cell-077029b8f828c014",
     "locked": false,
     "schema_version": 1,
     "solution": true
    }
   },
   "outputs": [],
   "source": [
    "### BEGIN SOLUTION\n",
    "\n",
    "### END SOLUTION\n",
    "def sudokuSolver(grid):\n",
    "    #list1 = [0,0]\n",
    "    temp = check_empty(grid)\n",
    "    if (not temp):\n",
    "        return True\n",
    "    row = temp[0]\n",
    "    col = temp[1]\n",
    "    \n",
    "    for num in range(1,10): #num 1~9\n",
    "        if (is_it_safe(grid, row, col, num)):\n",
    "            grid[row][col] = num\n",
    "            if (sudokuSolver(grid)):\n",
    "                return True\n",
    "            grid[row][col] = 0\n",
    "    return False\n",
    "            \n",
    "def check_empty(grid):\n",
    "    for i in range(0, 9):\n",
    "        for j in range(0, 9):\n",
    "            if grid[i][j] == 0:\n",
    "                #list1[0] = i #row\n",
    "                #list1[1] = j #col\n",
    "                #print(\"next empty:\", (i, j))\n",
    "                return [i, j]\n",
    "    return False\n",
    "def check_row(grid, row, num): # check whether it has the num already in the row\n",
    "    #print(\"checking row: is\", num, \"in\", grid[row])\n",
    "    for i in range(0,9):\n",
    "        if grid[row][i] == num:\n",
    "            #print(\"yes\")\n",
    "            return True\n",
    "    return False\n",
    "def check_col(grid, col, num):\n",
    "    #print(\"checking col:\")\n",
    "    for i in range(0,9):\n",
    "        #print(\"is\", grid[i][col], \"equal to\", num, \":\", grid[i][col] == num)\n",
    "        if grid[i][col] == num:\n",
    "            return True\n",
    "    return False\n",
    "def check_box(grid, row, col, num):\n",
    "    for i in range(row, row+3):\n",
    "        for j in range(col, col+3):\n",
    "            if grid[i][j] == num:\n",
    "                return True\n",
    "    return False\n",
    "def is_it_safe(grid, row, col, num):\n",
    "    return not check_row(grid, row, num) and not check_col(grid, col, num) and not check_box(grid, row - row%3, col - col%3, num)\n"
   ]
  },
  {
   "cell_type": "code",
   "execution_count": 8,
   "metadata": {},
   "outputs": [
    {
     "name": "stdout",
     "output_type": "stream",
     "text": [
      "[[5, 1, 7, 6, 9, 8, 2, 3, 4], [2, 8, 9, 1, 3, 4, 7, 5, 6], [3, 4, 6, 2, 7, 5, 8, 9, 1], [6, 7, 2, 8, 4, 9, 3, 1, 5], [1, 3, 8, 5, 2, 6, 9, 4, 7], [9, 5, 4, 7, 1, 3, 6, 8, 2], [4, 9, 5, 3, 6, 2, 1, 7, 8], [7, 2, 3, 4, 8, 1, 5, 6, 9], [8, 6, 1, 9, 5, 7, 4, 2, 3]]\n"
     ]
    }
   ],
   "source": [
    "sudokuSolver(grid)\n",
    "print(grid)\n"
   ]
  },
  {
   "cell_type": "markdown",
   "metadata": {
    "nbgrader": {
     "grade": false,
     "grade_id": "cell-e15ccffc397af918",
     "locked": true,
     "schema_version": 1,
     "solution": false
    }
   },
   "source": [
    "#### Check the algorithm:"
   ]
  },
  {
   "cell_type": "code",
   "execution_count": 9,
   "metadata": {
    "nbgrader": {
     "grade": false,
     "grade_id": "cell-8bbf31ceaeccc7a1",
     "locked": true,
     "schema_version": 1,
     "solution": false
    }
   },
   "outputs": [],
   "source": [
    "grid0_orig = [[0, 0, 0, 0, 0, 0, 6, 8, 0],\n",
    "              [0, 0, 0, 0, 7, 3, 0, 0, 9],\n",
    "              [3, 0, 9, 0, 0, 0, 0, 4, 5],\n",
    "              [4, 9, 0, 0, 0, 0, 0, 0, 0],\n",
    "              [8, 0, 3, 0, 5, 0, 9, 0, 2],\n",
    "              [0, 0, 0, 0, 0, 0, 0, 3, 6],\n",
    "              [9, 6, 0, 0, 0, 0, 3, 0, 8],\n",
    "              [7, 0, 0, 6, 8, 0, 0, 0, 0],\n",
    "              [0, 2, 8, 0, 0, 0, 0, 0, 0]]\n",
    "grid1_orig = [[1, 0, 0, 2, 0, 0, 0, 4, 0],\n",
    "              [0, 2, 0, 0, 0, 3, 9, 0, 0],\n",
    "              [9, 0, 7, 0, 0, 0, 5, 0, 0],\n",
    "              [0, 0, 4, 0, 0, 0, 0, 5, 7], \n",
    "              [0, 0, 0, 5, 4, 1, 0, 0, 0], \n",
    "              [3, 5, 0, 0, 0, 0, 1, 0, 0],\n",
    "              [0, 0, 3, 0, 0, 0, 7, 0, 9], \n",
    "              [0, 0, 1, 4, 0, 0, 0, 8, 0], \n",
    "              [0, 9, 0, 0, 0, 2, 0, 0, 6]]\n",
    "grid2_orig = [[5, 3, 0, 0, 7, 0, 0, 0, 0], \n",
    "              [6, 0, 0, 1, 9, 5, 0, 0, 0], \n",
    "              [0, 9, 8, 0, 0, 0, 0, 6, 0], \n",
    "              [8, 0, 0, 0, 6, 0, 0, 0, 3], \n",
    "              [4, 0, 0, 8, 0, 3, 0, 0, 1], \n",
    "              [7, 0, 0, 0, 2, 0, 0, 0, 6], \n",
    "              [0, 6, 0, 0, 0, 0, 2, 8, 0], \n",
    "              [0, 0, 0, 4, 1, 9, 0, 0, 5], \n",
    "              [0, 0, 0, 0, 8, 0, 0, 7, 9]]\n",
    "grid3_orig = [[0, 0, 0, 0, 0, 0, 0, 0, 0], \n",
    "              [0, 9, 3, 6, 2, 8, 1, 4, 0], \n",
    "              [0, 6, 0, 0, 0, 0, 0, 5, 0], \n",
    "              [0, 3, 0, 0, 1, 0, 0, 9, 0], \n",
    "              [0, 5, 0, 8, 0, 2, 0, 7, 0], \n",
    "              [0, 4, 0, 0, 7, 0, 0, 6, 0], \n",
    "              [0, 8, 0, 0, 0, 0, 0, 3, 0],\n",
    "              [0, 1, 7, 5, 9, 3, 4, 2, 0], \n",
    "              [0, 0, 0, 0, 0, 0, 0, 0, 0]]"
   ]
  },
  {
   "cell_type": "code",
   "execution_count": 10,
   "metadata": {
    "nbgrader": {
     "grade": true,
     "grade_id": "cell-d7fa65fe64db7ee2",
     "locked": true,
     "points": 10,
     "schema_version": 1,
     "solution": false
    }
   },
   "outputs": [],
   "source": [
    "from copy import deepcopy\n",
    "\n",
    "grid0 = deepcopy(grid0_orig)\n",
    "grid1 = deepcopy(grid1_orig)\n",
    "grid2 = deepcopy(grid2_orig)\n",
    "grid3 = deepcopy(grid3_orig)\n",
    "\n",
    "sudokuSolver(grid0)\n",
    "sudokuSolver(grid1)\n",
    "sudokuSolver(grid2)\n",
    "sudokuSolver(grid3)\n",
    "\n",
    "assert grid0 == [[1, 7, 2, 5, 4, 9, 6, 8, 3],\n",
    "                 [6, 4, 5, 8, 7, 3, 2, 1, 9],\n",
    "                 [3, 8, 9, 2, 6, 1, 7, 4, 5],\n",
    "                 [4, 9, 6, 3, 2, 7, 8, 5, 1],\n",
    "                 [8, 1, 3, 4, 5, 6, 9, 7, 2],\n",
    "                 [2, 5, 7, 1, 9, 8, 4, 3, 6],\n",
    "                 [9, 6, 4, 7, 1, 5, 3, 2, 8],\n",
    "                 [7, 3, 1, 6, 8, 2, 5, 9, 4],\n",
    "                 [5, 2, 8, 9, 3, 4, 1, 6, 7]]\n",
    "assert grid1 == [[1, 3, 5, 2, 9, 7, 6, 4, 8], \n",
    "                 [4, 2, 6, 8, 5, 3, 9, 7, 1], \n",
    "                 [9, 8, 7, 6, 1, 4, 5, 3, 2], \n",
    "                 [8, 1, 4, 9, 3, 6, 2, 5, 7], \n",
    "                 [7, 6, 2, 5, 4, 1, 8, 9, 3], \n",
    "                 [3, 5, 9, 7, 2, 8, 1, 6, 4], \n",
    "                 [6, 4, 3, 1, 8, 5, 7, 2, 9], \n",
    "                 [2, 7, 1, 4, 6, 9, 3, 8, 5], \n",
    "                 [5, 9, 8, 3, 7, 2, 4, 1, 6]]\n",
    "assert grid2 == [[5, 3, 4, 6, 7, 8, 9, 1, 2], \n",
    "                 [6, 7, 2, 1, 9, 5, 3, 4, 8], \n",
    "                 [1, 9, 8, 3, 4, 2, 5, 6, 7], \n",
    "                 [8, 5, 9, 7, 6, 1, 4, 2, 3], \n",
    "                 [4, 2, 6, 8, 5, 3, 7, 9, 1], \n",
    "                 [7, 1, 3, 9, 2, 4, 8, 5, 6], \n",
    "                 [9, 6, 1, 5, 3, 7, 2, 8, 4], \n",
    "                 [2, 8, 7, 4, 1, 9, 6, 3, 5], \n",
    "                 [3, 4, 5, 2, 8, 6, 1, 7, 9]]\n",
    "assert grid3 == [[2, 7, 1, 9, 5, 4, 6, 8, 3], \n",
    "                 [5, 9, 3, 6, 2, 8, 1, 4, 7], \n",
    "                 [4, 6, 8, 1, 3, 7, 2, 5, 9], \n",
    "                 [7, 3, 6, 4, 1, 5, 8, 9, 2], \n",
    "                 [1, 5, 9, 8, 6, 2, 3, 7, 4], \n",
    "                 [8, 4, 2, 3, 7, 9, 5, 6, 1], \n",
    "                 [9, 8, 5, 2, 4, 1, 7, 3, 6], \n",
    "                 [6, 1, 7, 5, 9, 3, 4, 2, 8], \n",
    "                 [3, 2, 4, 7, 8, 6, 9, 1, 5]]"
   ]
  },
  {
   "cell_type": "markdown",
   "metadata": {
    "nbgrader": {
     "grade": false,
     "grade_id": "cell-c6599f6e0a6c14c6",
     "locked": true,
     "schema_version": 1,
     "solution": false
    }
   },
   "source": [
    "#### Check the execution time:"
   ]
  },
  {
   "cell_type": "code",
   "execution_count": 11,
   "metadata": {
    "nbgrader": {
     "grade": false,
     "grade_id": "cell-42a104b770b281ef",
     "locked": true,
     "schema_version": 1,
     "solution": false
    }
   },
   "outputs": [
    {
     "name": "stdout",
     "output_type": "stream",
     "text": [
      "0.4024677276611328 seconds\n"
     ]
    }
   ],
   "source": [
    "grid0 = deepcopy(grid0_orig)\n",
    "grid1 = deepcopy(grid1_orig)\n",
    "grid2 = deepcopy(grid2_orig)\n",
    "grid3 = deepcopy(grid3_orig)\n",
    "\n",
    "import time\n",
    "\n",
    "start_time = time.time()\n",
    "\n",
    "sudokuSolver(grid0)\n",
    "sudokuSolver(grid1)\n",
    "sudokuSolver(grid2)\n",
    "sudokuSolver(grid3)\n",
    "\n",
    "print(\"%s seconds\" % (time.time() - start_time))"
   ]
  },
  {
   "cell_type": "code",
   "execution_count": null,
   "metadata": {},
   "outputs": [],
   "source": []
  },
  {
   "cell_type": "code",
   "execution_count": null,
   "metadata": {},
   "outputs": [],
   "source": []
  }
 ],
 "metadata": {
  "celltoolbar": "Create Assignment",
  "kernelspec": {
   "display_name": "Python 3",
   "language": "python",
   "name": "python3"
  },
  "language_info": {
   "codemirror_mode": {
    "name": "ipython",
    "version": 3
   },
   "file_extension": ".py",
   "mimetype": "text/x-python",
   "name": "python",
   "nbconvert_exporter": "python",
   "pygments_lexer": "ipython3",
   "version": "3.7.1"
  }
 },
 "nbformat": 4,
 "nbformat_minor": 2
}
