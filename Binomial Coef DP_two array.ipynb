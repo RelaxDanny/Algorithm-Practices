{
 "cells": [
  {
   "cell_type": "markdown",
   "metadata": {
    "nbgrader": {
     "grade": false,
     "grade_id": "cell-c5bb9943dcd0bede",
     "locked": true,
     "schema_version": 1,
     "solution": false
    }
   },
   "source": [
    "|  CSE373 Analysis of Algorithm  |  Programming Practice #8 |  Posted on 11/26 Due 11/30   |\n",
    "|:--|:--:|--:|\n",
    "\n",
    "# Task #15\n",
    "\n",
    "## Binomial Coefficients problem\n",
    "\n",
    "We have covered Binomial Coefficients problem in the class, in this programming practice, you need to practice what we have learned in the class. Most of the codes are available on the class slide, you may use the code from the slide. This week’s practice is to play with the dynamic programming then you can familiarize with the DP coding.\n",
    "\n",
    "**Solve Binomial Coefficients problem using <ins>Dynamic Programming (2D array)</ins>.**"
   ]
  },
  {
   "cell_type": "markdown",
   "metadata": {
    "nbgrader": {
     "grade": false,
     "grade_id": "cell-47f9c51bd1440526",
     "locked": true,
     "schema_version": 1,
     "solution": false
    }
   },
   "source": [
    "#### Write your algorithm here:"
   ]
  },
  {
   "cell_type": "code",
   "execution_count": 21,
   "metadata": {
    "nbgrader": {
     "grade": false,
     "grade_id": "cell-f4b2b914f82e0838",
     "locked": false,
     "schema_version": 1,
     "solution": true
    }
   },
   "outputs": [],
   "source": [
    "def binomialCoeff_DP2D(n, k):\n",
    "    \"\"\"\n",
    "    :type n: integer\n",
    "    :type k: integer\n",
    "    :rtype: integer\n",
    "    \"\"\"\n",
    "    ### BEGIN SOLUTION\n",
    "    poplist = [[-1 for x in range(k + 1)] for i in range(n + 1)]\n",
    "    \n",
    "    \n",
    "    def recursion(n,k):\n",
    "        if k == 0 or k == n:\n",
    "            poplist[n][k] = 1\n",
    "            return 1\n",
    "        beforeC = poplist[n-1][k-1]\n",
    "        afterC = poplist[n-1][k]\n",
    "        if beforeC == -1:\n",
    "            beforeC = recursion(n-1, k-1)\n",
    "        if afterC == -1:\n",
    "            afterC = recursion(n-1,k)\n",
    "        poplist[n][k] = beforeC + afterC\n",
    "        return beforeC + afterC\n",
    "    \n",
    "    return recursion(n, k)\n",
    "    ### END SOLUTION"
   ]
  },
  {
   "cell_type": "code",
   "execution_count": 22,
   "metadata": {},
   "outputs": [
    {
     "name": "stdout",
     "output_type": "stream",
     "text": [
      "10\n"
     ]
    }
   ],
   "source": [
    "n = 5\n",
    "k = 2\n",
    "print(binomialCoeff_DP2D(n , k))"
   ]
  },
  {
   "cell_type": "markdown",
   "metadata": {
    "nbgrader": {
     "grade": false,
     "grade_id": "cell-8c7192343a6a35d3",
     "locked": true,
     "schema_version": 1,
     "solution": false
    }
   },
   "source": [
    "#### Check the algorithm:"
   ]
  },
  {
   "cell_type": "code",
   "execution_count": 23,
   "metadata": {
    "nbgrader": {
     "grade": true,
     "grade_id": "cell-621215035cdfe527",
     "locked": true,
     "points": 10,
     "schema_version": 1,
     "solution": false
    }
   },
   "outputs": [
    {
     "name": "stdout",
     "output_type": "stream",
     "text": [
      "[Output] Value of C(0,0) is (1)\n",
      "[Output] Value of C(1,1) is (1)\n",
      "[Output] Value of C(4,2) is (6)\n",
      "[Output] Value of C(9,3) is (84)\n",
      "[Output] Value of C(16,4) is (1820)\n",
      "[Output] Value of C(25,5) is (53130)\n",
      "[Output] Value of C(36,6) is (1947792)\n",
      "[Output] Value of C(49,7) is (85900584)\n",
      "[Output] Value of C(64,8) is (4426165368)\n",
      "[Output] Value of C(81,9) is (260887834350)\n",
      "[Output] Value of C(100,10) is (17310309456440)\n",
      "[Output] Value of C(121,11) is (1276749965026536)\n",
      "[Output] Value of C(144,12) is (103619293824707388)\n",
      "[Output] Value of C(169,13) is (9176358300744339432)\n",
      "[Output] Value of C(196,14) is (880530516383349192480)\n",
      "[Output] Value of C(225,15) is (91005567811177478095440)\n",
      "[Output] Value of C(256,16) is (10078751602022313874633200)\n",
      "[Output] Value of C(289,17) is (1190739044344491048895397910)\n",
      "[Output] Value of C(324,18) is (149482492334195165714038760136)\n",
      "[Output] Value of C(361,19) is (19870867053543756004133247695400)\n",
      "[Output] Value of C(400,20) is (2788360983670896737872851072994080)\n",
      "[Output] Value of C(441,21) is (411887396336567398822620727355402190)\n",
      "[Output] Value of C(484,22) is (63887407766986865702182544710470036560)\n",
      "[Output] Value of C(529,23) is (10381758958529585222885358558747563185920)\n",
      "[Output] Value of C(576,24) is (1763783520005146433232953016554504214270600)\n"
     ]
    }
   ],
   "source": [
    "n = [i*i for i in range(25)]\n",
    "k = [i for i in range(25)]\n",
    "answer = [1, 1, 6, 84, 1820, 53130, 1947792, 85900584, 4426165368, 260887834350, 17310309456440, 1276749965026536, 103619293824707388, 9176358300744339432, 880530516383349192480, 91005567811177478095440, 10078751602022313874633200, 1190739044344491048895397910, 149482492334195165714038760136, 19870867053543756004133247695400, 2788360983670896737872851072994080, 411887396336567398822620727355402190, 63887407766986865702182544710470036560, 10381758958529585222885358558747563185920, 1763783520005146433232953016554504214270600]\n",
    "for (_n, _k, _answer) in zip(n, k, answer):\n",
    "    i = binomialCoeff_DP2D(_n , _k)\n",
    "    print(\"[Output] Value of C(%d,%d) is (%d)\" %(_n, _k , i))\n",
    "    assert i == _answer, \"The result of your algorithm is %d where n=%d, k=%d. The right answer is %d\" %(i, _n, _k, _answer)"
   ]
  },
  {
   "cell_type": "markdown",
   "metadata": {
    "nbgrader": {
     "grade": false,
     "grade_id": "cell-de40e9a2cb13cb78",
     "locked": true,
     "schema_version": 1,
     "solution": false
    }
   },
   "source": [
    "#### Check the execution time:"
   ]
  },
  {
   "cell_type": "code",
   "execution_count": 24,
   "metadata": {
    "nbgrader": {
     "grade": true,
     "grade_id": "cell-e34c8a9d417364b2",
     "locked": true,
     "points": 1,
     "schema_version": 1,
     "solution": false
    }
   },
   "outputs": [
    {
     "name": "stdout",
     "output_type": "stream",
     "text": [
      "0.16674184799194336 seconds\n"
     ]
    }
   ],
   "source": [
    "import time\n",
    "\n",
    "start_time = time.time()\n",
    "assert binomialCoeff_DP2D(1000, 500) == 270288240945436569515614693625975275496152008446548287007392875106625428705522193898612483924502370165362606085021546104802209750050679917549894219699518475423665484263751733356162464079737887344364574161119497604571044985756287880514600994219426752366915856603136862602484428109296905863799821216320\n",
    "\n",
    "print(\"%s seconds\" % (time.time() - start_time))"
   ]
  },
  {
   "cell_type": "code",
   "execution_count": null,
   "metadata": {},
   "outputs": [],
   "source": []
  }
 ],
 "metadata": {
  "celltoolbar": "Create Assignment",
  "kernelspec": {
   "display_name": "Python 3",
   "language": "python",
   "name": "python3"
  },
  "language_info": {
   "codemirror_mode": {
    "name": "ipython",
    "version": 3
   },
   "file_extension": ".py",
   "mimetype": "text/x-python",
   "name": "python",
   "nbconvert_exporter": "python",
   "pygments_lexer": "ipython3",
   "version": "3.7.1"
  }
 },
 "nbformat": 4,
 "nbformat_minor": 2
}
