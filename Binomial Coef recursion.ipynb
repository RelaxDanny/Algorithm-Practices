{
 "cells": [
  {
   "cell_type": "markdown",
   "metadata": {
    "nbgrader": {
     "grade": false,
     "grade_id": "cell-7f742a57a7a300b9",
     "locked": true,
     "schema_version": 1,
     "solution": false
    }
   },
   "source": [
    "|  CSE373 Analysis of Algorithm  |  Programming Practice #14 |  Posted on 11/06 Due 11/11   |\n",
    "|:--|:--:|--:|\n",
    "\n",
    "# Task #14\n",
    "\n",
    "## Binomial Coefficients problem\n",
    "\n",
    "We have covered Binomial Coefficients problem in the class, in this programming practice, you need to practice what we have learned in the class. Most of the codes are available on the class slide, you may use the code from the slide. This week’s practice is to play with the dynamic programming then you can familiarize with the DP coding.\n",
    "\n",
    "Solve Binomial Coefficients problem using _recursive function_."
   ]
  },
  {
   "cell_type": "markdown",
   "metadata": {
    "nbgrader": {
     "grade": false,
     "grade_id": "cell-cec611db9dafd7ce",
     "locked": true,
     "schema_version": 1,
     "solution": false
    }
   },
   "source": [
    "#### Write your algorithm here:"
   ]
  },
  {
   "cell_type": "code",
   "execution_count": 14,
   "metadata": {
    "nbgrader": {
     "grade": false,
     "grade_id": "cell-03d95b8cf6bf25aa",
     "locked": false,
     "schema_version": 1,
     "solution": true
    }
   },
   "outputs": [],
   "source": [
    "def binomialCoeff_recursive(n, k):\n",
    "    \"\"\"\n",
    "    :type n: integer\n",
    "    :type k: integer\n",
    "    :rtype: integer\n",
    "    \"\"\"\n",
    "    ### BEGIN SOLUTION\n",
    "    if k == 0 or k == n:\n",
    "        return 1\n",
    "    return binomialCoeff_recursive(n-1, k-1) + binomialCoeff_recursive(n-1,k)\n",
    "    ### END SOLUTION"
   ]
  },
  {
   "cell_type": "code",
   "execution_count": 15,
   "metadata": {},
   "outputs": [
    {
     "name": "stdout",
     "output_type": "stream",
     "text": [
      "10\n"
     ]
    }
   ],
   "source": [
    "n = 5\n",
    "k = 2\n",
    "print(binomialCoeff_recursive(n , k))"
   ]
  },
  {
   "cell_type": "markdown",
   "metadata": {
    "nbgrader": {
     "grade": false,
     "grade_id": "cell-bdf13179393857bc",
     "locked": true,
     "schema_version": 1,
     "solution": false
    }
   },
   "source": [
    "#### Check the algorithm:"
   ]
  },
  {
   "cell_type": "code",
   "execution_count": 16,
   "metadata": {
    "nbgrader": {
     "grade": true,
     "grade_id": "cell-799ded13b4dc5316",
     "locked": true,
     "points": 10,
     "schema_version": 1,
     "solution": false
    },
    "scrolled": true
   },
   "outputs": [
    {
     "name": "stdout",
     "output_type": "stream",
     "text": [
      "[Output] Value of C(1,1) is (1)\n",
      "[Output] Value of C(4,2) is (6)\n",
      "[Output] Value of C(9,3) is (84)\n",
      "[Output] Value of C(16,4) is (1820)\n",
      "[Output] Value of C(25,5) is (53130)\n",
      "[Output] Value of C(100,0) is (1)\n",
      "[Output] Value of C(10000,10000) is (1)\n"
     ]
    }
   ],
   "source": [
    "n = [1, 4, 9, 16, 25, 100, 10000]\n",
    "k = [1, 2, 3, 4, 5, 0, 10000]\n",
    "answer = [1, 6, 84, 1820, 53130, 1, 1]\n",
    "\n",
    "for (_n, _k, _answer) in zip(n, k, answer):\n",
    "    i = binomialCoeff_recursive(_n , _k)\n",
    "    print(\"[Output] Value of C(%d,%d) is (%d)\" %(_n, _k , i))\n",
    "    assert i == _answer, \"The result of your algorithm is %d where n=%d, k=%d. The right answer is %d\" %(i, _n, _k, _answer)"
   ]
  },
  {
   "cell_type": "markdown",
   "metadata": {
    "nbgrader": {
     "grade": false,
     "grade_id": "cell-f9823dcaf7290ce3",
     "locked": true,
     "schema_version": 1,
     "solution": false
    }
   },
   "source": [
    "#### Check the execution time:"
   ]
  },
  {
   "cell_type": "code",
   "execution_count": 17,
   "metadata": {
    "nbgrader": {
     "grade": true,
     "grade_id": "cell-40ae20dd77cbf73c",
     "locked": true,
     "points": 5,
     "schema_version": 1,
     "solution": false
    }
   },
   "outputs": [
    {
     "name": "stdout",
     "output_type": "stream",
     "text": [
      "2.2934021949768066 seconds\n"
     ]
    }
   ],
   "source": [
    "import time\n",
    "\n",
    "start_time = time.time()\n",
    "\n",
    "assert binomialCoeff_recursive(36, 7) == 8347680\n",
    "\n",
    "print(\"%s seconds\" % (time.time() - start_time))"
   ]
  },
  {
   "cell_type": "code",
   "execution_count": null,
   "metadata": {},
   "outputs": [],
   "source": []
  },
  {
   "cell_type": "code",
   "execution_count": null,
   "metadata": {},
   "outputs": [],
   "source": []
  }
 ],
 "metadata": {
  "celltoolbar": "Create Assignment",
  "kernelspec": {
   "display_name": "Python 3",
   "language": "python",
   "name": "python3"
  },
  "language_info": {
   "codemirror_mode": {
    "name": "ipython",
    "version": 3
   },
   "file_extension": ".py",
   "mimetype": "text/x-python",
   "name": "python",
   "nbconvert_exporter": "python",
   "pygments_lexer": "ipython3",
   "version": "3.7.1"
  }
 },
 "nbformat": 4,
 "nbformat_minor": 2
}
